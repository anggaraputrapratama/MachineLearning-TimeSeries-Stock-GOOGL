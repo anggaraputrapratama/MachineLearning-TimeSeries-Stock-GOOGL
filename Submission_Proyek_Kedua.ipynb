{
  "nbformat": 4,
  "nbformat_minor": 0,
  "metadata": {
    "colab": {
      "name": "Submission_Proyek_Kedua.ipynb",
      "provenance": []
    },
    "kernelspec": {
      "name": "python3",
      "display_name": "Python 3"
    },
    "language_info": {
      "name": "python"
    },
    "accelerator": "GPU"
  },
  "cells": [
    {
      "cell_type": "markdown",
      "source": [
        "## [Anggara Putra Pratama](https://www.dicoding.com/users/anggaraputrapratama)\n",
        "\n",
        "Proyek Kedua : Membuat Model Machine Learning dengan Data Time Series\n",
        "\n",
        "\n",
        "Dataset: https://finance.yahoo.com/quote/GOOGL?p=GOOGL&.tsrc=fin-srch"
      ],
      "metadata": {
        "id": "TtQh1KJ-eGGM"
      }
    },
    {
      "cell_type": "code",
      "execution_count": 1,
      "metadata": {
        "colab": {
          "base_uri": "https://localhost:8080/"
        },
        "id": "sx-YLmJqeCld",
        "outputId": "6e4eb71e-b729-4ba7-c924-8b1b1ccaa62c"
      },
      "outputs": [
        {
          "output_type": "stream",
          "name": "stdout",
          "text": [
            "Collecting yfinance\n",
            "  Downloading yfinance-0.1.70-py2.py3-none-any.whl (26 kB)\n",
            "Collecting lxml>=4.5.1\n",
            "  Downloading lxml-4.8.0-cp37-cp37m-manylinux_2_17_x86_64.manylinux2014_x86_64.manylinux_2_24_x86_64.whl (6.4 MB)\n",
            "\u001b[K     |████████████████████████████████| 6.4 MB 10.9 MB/s \n",
            "\u001b[?25hRequirement already satisfied: multitasking>=0.0.7 in /usr/local/lib/python3.7/dist-packages (from yfinance) (0.0.10)\n",
            "Requirement already satisfied: numpy>=1.15 in /usr/local/lib/python3.7/dist-packages (from yfinance) (1.21.5)\n",
            "Requirement already satisfied: pandas>=0.24.0 in /usr/local/lib/python3.7/dist-packages (from yfinance) (1.3.5)\n",
            "Collecting requests>=2.26\n",
            "  Downloading requests-2.27.1-py2.py3-none-any.whl (63 kB)\n",
            "\u001b[K     |████████████████████████████████| 63 kB 1.2 MB/s \n",
            "\u001b[?25hRequirement already satisfied: pytz>=2017.3 in /usr/local/lib/python3.7/dist-packages (from pandas>=0.24.0->yfinance) (2018.9)\n",
            "Requirement already satisfied: python-dateutil>=2.7.3 in /usr/local/lib/python3.7/dist-packages (from pandas>=0.24.0->yfinance) (2.8.2)\n",
            "Requirement already satisfied: six>=1.5 in /usr/local/lib/python3.7/dist-packages (from python-dateutil>=2.7.3->pandas>=0.24.0->yfinance) (1.15.0)\n",
            "Requirement already satisfied: idna<4,>=2.5 in /usr/local/lib/python3.7/dist-packages (from requests>=2.26->yfinance) (2.10)\n",
            "Requirement already satisfied: charset-normalizer~=2.0.0 in /usr/local/lib/python3.7/dist-packages (from requests>=2.26->yfinance) (2.0.12)\n",
            "Requirement already satisfied: certifi>=2017.4.17 in /usr/local/lib/python3.7/dist-packages (from requests>=2.26->yfinance) (2021.10.8)\n",
            "Requirement already satisfied: urllib3<1.27,>=1.21.1 in /usr/local/lib/python3.7/dist-packages (from requests>=2.26->yfinance) (1.24.3)\n",
            "Installing collected packages: requests, lxml, yfinance\n",
            "  Attempting uninstall: requests\n",
            "    Found existing installation: requests 2.23.0\n",
            "    Uninstalling requests-2.23.0:\n",
            "      Successfully uninstalled requests-2.23.0\n",
            "  Attempting uninstall: lxml\n",
            "    Found existing installation: lxml 4.2.6\n",
            "    Uninstalling lxml-4.2.6:\n",
            "      Successfully uninstalled lxml-4.2.6\n",
            "\u001b[31mERROR: pip's dependency resolver does not currently take into account all the packages that are installed. This behaviour is the source of the following dependency conflicts.\n",
            "google-colab 1.0.0 requires requests~=2.23.0, but you have requests 2.27.1 which is incompatible.\n",
            "datascience 0.10.6 requires folium==0.2.1, but you have folium 0.8.3 which is incompatible.\u001b[0m\n",
            "Successfully installed lxml-4.8.0 requests-2.27.1 yfinance-0.1.70\n"
          ]
        }
      ],
      "source": [
        "! pip install yfinance"
      ]
    },
    {
      "cell_type": "code",
      "source": [
        "import numpy as np\n",
        "import tensorflow as tf\n",
        "import yfinance as yf\n",
        "import matplotlib.pyplot as plt\n",
        "from datetime import datetime\n",
        "from sklearn.preprocessing import MinMaxScaler\n",
        "from pandas_datareader.data import DataReader"
      ],
      "metadata": {
        "id": "p9Pj7MH0enex"
      },
      "execution_count": 2,
      "outputs": []
    },
    {
      "cell_type": "code",
      "source": [
        "end = datetime(2022, 4, 4)\n",
        "start = datetime(end.year - 11, end.month, end.day)\n",
        "stock = yf.download(\"GOOGL\", start, end)"
      ],
      "metadata": {
        "colab": {
          "base_uri": "https://localhost:8080/"
        },
        "id": "DB39fCCkepuX",
        "outputId": "bac44919-af50-4812-a662-e365530e503a"
      },
      "execution_count": 3,
      "outputs": [
        {
          "output_type": "stream",
          "name": "stdout",
          "text": [
            "\r[*********************100%***********************]  1 of 1 completed\n"
          ]
        }
      ]
    },
    {
      "cell_type": "code",
      "source": [
        "stock"
      ],
      "metadata": {
        "colab": {
          "base_uri": "https://localhost:8080/",
          "height": 455
        },
        "id": "g6v0UAQFesmX",
        "outputId": "e7d597d7-5b09-4f1d-932f-5db5e3f035f7"
      },
      "execution_count": 4,
      "outputs": [
        {
          "output_type": "execute_result",
          "data": {
            "text/plain": [
              "                   Open         High          Low        Close    Adj Close  \\\n",
              "Date                                                                          \n",
              "2011-04-04   296.796783   297.667664   291.841827   294.134125   294.134125   \n",
              "2011-04-05   290.830841   291.036041   283.123108   284.829834   284.829834   \n",
              "2011-04-06   286.376373   287.867859   284.284271   287.377380   287.377380   \n",
              "2011-04-07   288.153168   290.610626   287.382385   290.290283   290.290283   \n",
              "2011-04-08   292.737732   292.737732   289.319305   289.369354   289.369354   \n",
              "...                 ...          ...          ...          ...          ...   \n",
              "2022-03-28  2818.010010  2840.050049  2796.229980  2829.110107  2829.110107   \n",
              "2022-03-29  2852.949951  2875.870117  2840.770020  2850.110107  2850.110107   \n",
              "2022-03-30  2849.199951  2854.409912  2832.000000  2838.770020  2838.770020   \n",
              "2022-03-31  2841.060059  2842.159912  2780.489990  2781.350098  2781.350098   \n",
              "2022-04-01  2790.000000  2809.419922  2766.149902  2803.010010  2803.010010   \n",
              "\n",
              "              Volume  \n",
              "Date                  \n",
              "2011-04-04   4104891  \n",
              "2011-04-05  12082905  \n",
              "2011-04-06   5331263  \n",
              "2011-04-07   5057937  \n",
              "2011-04-08   3799796  \n",
              "...              ...  \n",
              "2022-03-28   1752500  \n",
              "2022-03-29   1715900  \n",
              "2022-03-30    994200  \n",
              "2022-03-31   1876200  \n",
              "2022-04-01   1296700  \n",
              "\n",
              "[2769 rows x 6 columns]"
            ],
            "text/html": [
              "\n",
              "  <div id=\"df-2668b04c-6559-43cd-bd7a-74145d048c29\">\n",
              "    <div class=\"colab-df-container\">\n",
              "      <div>\n",
              "<style scoped>\n",
              "    .dataframe tbody tr th:only-of-type {\n",
              "        vertical-align: middle;\n",
              "    }\n",
              "\n",
              "    .dataframe tbody tr th {\n",
              "        vertical-align: top;\n",
              "    }\n",
              "\n",
              "    .dataframe thead th {\n",
              "        text-align: right;\n",
              "    }\n",
              "</style>\n",
              "<table border=\"1\" class=\"dataframe\">\n",
              "  <thead>\n",
              "    <tr style=\"text-align: right;\">\n",
              "      <th></th>\n",
              "      <th>Open</th>\n",
              "      <th>High</th>\n",
              "      <th>Low</th>\n",
              "      <th>Close</th>\n",
              "      <th>Adj Close</th>\n",
              "      <th>Volume</th>\n",
              "    </tr>\n",
              "    <tr>\n",
              "      <th>Date</th>\n",
              "      <th></th>\n",
              "      <th></th>\n",
              "      <th></th>\n",
              "      <th></th>\n",
              "      <th></th>\n",
              "      <th></th>\n",
              "    </tr>\n",
              "  </thead>\n",
              "  <tbody>\n",
              "    <tr>\n",
              "      <th>2011-04-04</th>\n",
              "      <td>296.796783</td>\n",
              "      <td>297.667664</td>\n",
              "      <td>291.841827</td>\n",
              "      <td>294.134125</td>\n",
              "      <td>294.134125</td>\n",
              "      <td>4104891</td>\n",
              "    </tr>\n",
              "    <tr>\n",
              "      <th>2011-04-05</th>\n",
              "      <td>290.830841</td>\n",
              "      <td>291.036041</td>\n",
              "      <td>283.123108</td>\n",
              "      <td>284.829834</td>\n",
              "      <td>284.829834</td>\n",
              "      <td>12082905</td>\n",
              "    </tr>\n",
              "    <tr>\n",
              "      <th>2011-04-06</th>\n",
              "      <td>286.376373</td>\n",
              "      <td>287.867859</td>\n",
              "      <td>284.284271</td>\n",
              "      <td>287.377380</td>\n",
              "      <td>287.377380</td>\n",
              "      <td>5331263</td>\n",
              "    </tr>\n",
              "    <tr>\n",
              "      <th>2011-04-07</th>\n",
              "      <td>288.153168</td>\n",
              "      <td>290.610626</td>\n",
              "      <td>287.382385</td>\n",
              "      <td>290.290283</td>\n",
              "      <td>290.290283</td>\n",
              "      <td>5057937</td>\n",
              "    </tr>\n",
              "    <tr>\n",
              "      <th>2011-04-08</th>\n",
              "      <td>292.737732</td>\n",
              "      <td>292.737732</td>\n",
              "      <td>289.319305</td>\n",
              "      <td>289.369354</td>\n",
              "      <td>289.369354</td>\n",
              "      <td>3799796</td>\n",
              "    </tr>\n",
              "    <tr>\n",
              "      <th>...</th>\n",
              "      <td>...</td>\n",
              "      <td>...</td>\n",
              "      <td>...</td>\n",
              "      <td>...</td>\n",
              "      <td>...</td>\n",
              "      <td>...</td>\n",
              "    </tr>\n",
              "    <tr>\n",
              "      <th>2022-03-28</th>\n",
              "      <td>2818.010010</td>\n",
              "      <td>2840.050049</td>\n",
              "      <td>2796.229980</td>\n",
              "      <td>2829.110107</td>\n",
              "      <td>2829.110107</td>\n",
              "      <td>1752500</td>\n",
              "    </tr>\n",
              "    <tr>\n",
              "      <th>2022-03-29</th>\n",
              "      <td>2852.949951</td>\n",
              "      <td>2875.870117</td>\n",
              "      <td>2840.770020</td>\n",
              "      <td>2850.110107</td>\n",
              "      <td>2850.110107</td>\n",
              "      <td>1715900</td>\n",
              "    </tr>\n",
              "    <tr>\n",
              "      <th>2022-03-30</th>\n",
              "      <td>2849.199951</td>\n",
              "      <td>2854.409912</td>\n",
              "      <td>2832.000000</td>\n",
              "      <td>2838.770020</td>\n",
              "      <td>2838.770020</td>\n",
              "      <td>994200</td>\n",
              "    </tr>\n",
              "    <tr>\n",
              "      <th>2022-03-31</th>\n",
              "      <td>2841.060059</td>\n",
              "      <td>2842.159912</td>\n",
              "      <td>2780.489990</td>\n",
              "      <td>2781.350098</td>\n",
              "      <td>2781.350098</td>\n",
              "      <td>1876200</td>\n",
              "    </tr>\n",
              "    <tr>\n",
              "      <th>2022-04-01</th>\n",
              "      <td>2790.000000</td>\n",
              "      <td>2809.419922</td>\n",
              "      <td>2766.149902</td>\n",
              "      <td>2803.010010</td>\n",
              "      <td>2803.010010</td>\n",
              "      <td>1296700</td>\n",
              "    </tr>\n",
              "  </tbody>\n",
              "</table>\n",
              "<p>2769 rows × 6 columns</p>\n",
              "</div>\n",
              "      <button class=\"colab-df-convert\" onclick=\"convertToInteractive('df-2668b04c-6559-43cd-bd7a-74145d048c29')\"\n",
              "              title=\"Convert this dataframe to an interactive table.\"\n",
              "              style=\"display:none;\">\n",
              "        \n",
              "  <svg xmlns=\"http://www.w3.org/2000/svg\" height=\"24px\"viewBox=\"0 0 24 24\"\n",
              "       width=\"24px\">\n",
              "    <path d=\"M0 0h24v24H0V0z\" fill=\"none\"/>\n",
              "    <path d=\"M18.56 5.44l.94 2.06.94-2.06 2.06-.94-2.06-.94-.94-2.06-.94 2.06-2.06.94zm-11 1L8.5 8.5l.94-2.06 2.06-.94-2.06-.94L8.5 2.5l-.94 2.06-2.06.94zm10 10l.94 2.06.94-2.06 2.06-.94-2.06-.94-.94-2.06-.94 2.06-2.06.94z\"/><path d=\"M17.41 7.96l-1.37-1.37c-.4-.4-.92-.59-1.43-.59-.52 0-1.04.2-1.43.59L10.3 9.45l-7.72 7.72c-.78.78-.78 2.05 0 2.83L4 21.41c.39.39.9.59 1.41.59.51 0 1.02-.2 1.41-.59l7.78-7.78 2.81-2.81c.8-.78.8-2.07 0-2.86zM5.41 20L4 18.59l7.72-7.72 1.47 1.35L5.41 20z\"/>\n",
              "  </svg>\n",
              "      </button>\n",
              "      \n",
              "  <style>\n",
              "    .colab-df-container {\n",
              "      display:flex;\n",
              "      flex-wrap:wrap;\n",
              "      gap: 12px;\n",
              "    }\n",
              "\n",
              "    .colab-df-convert {\n",
              "      background-color: #E8F0FE;\n",
              "      border: none;\n",
              "      border-radius: 50%;\n",
              "      cursor: pointer;\n",
              "      display: none;\n",
              "      fill: #1967D2;\n",
              "      height: 32px;\n",
              "      padding: 0 0 0 0;\n",
              "      width: 32px;\n",
              "    }\n",
              "\n",
              "    .colab-df-convert:hover {\n",
              "      background-color: #E2EBFA;\n",
              "      box-shadow: 0px 1px 2px rgba(60, 64, 67, 0.3), 0px 1px 3px 1px rgba(60, 64, 67, 0.15);\n",
              "      fill: #174EA6;\n",
              "    }\n",
              "\n",
              "    [theme=dark] .colab-df-convert {\n",
              "      background-color: #3B4455;\n",
              "      fill: #D2E3FC;\n",
              "    }\n",
              "\n",
              "    [theme=dark] .colab-df-convert:hover {\n",
              "      background-color: #434B5C;\n",
              "      box-shadow: 0px 1px 3px 1px rgba(0, 0, 0, 0.15);\n",
              "      filter: drop-shadow(0px 1px 2px rgba(0, 0, 0, 0.3));\n",
              "      fill: #FFFFFF;\n",
              "    }\n",
              "  </style>\n",
              "\n",
              "      <script>\n",
              "        const buttonEl =\n",
              "          document.querySelector('#df-2668b04c-6559-43cd-bd7a-74145d048c29 button.colab-df-convert');\n",
              "        buttonEl.style.display =\n",
              "          google.colab.kernel.accessAllowed ? 'block' : 'none';\n",
              "\n",
              "        async function convertToInteractive(key) {\n",
              "          const element = document.querySelector('#df-2668b04c-6559-43cd-bd7a-74145d048c29');\n",
              "          const dataTable =\n",
              "            await google.colab.kernel.invokeFunction('convertToInteractive',\n",
              "                                                     [key], {});\n",
              "          if (!dataTable) return;\n",
              "\n",
              "          const docLinkHtml = 'Like what you see? Visit the ' +\n",
              "            '<a target=\"_blank\" href=https://colab.research.google.com/notebooks/data_table.ipynb>data table notebook</a>'\n",
              "            + ' to learn more about interactive tables.';\n",
              "          element.innerHTML = '';\n",
              "          dataTable['output_type'] = 'display_data';\n",
              "          await google.colab.output.renderOutput(dataTable, element);\n",
              "          const docLink = document.createElement('div');\n",
              "          docLink.innerHTML = docLinkHtml;\n",
              "          element.appendChild(docLink);\n",
              "        }\n",
              "      </script>\n",
              "    </div>\n",
              "  </div>\n",
              "  "
            ]
          },
          "metadata": {},
          "execution_count": 4
        }
      ]
    },
    {
      "cell_type": "code",
      "source": [
        "stock.info()"
      ],
      "metadata": {
        "colab": {
          "base_uri": "https://localhost:8080/"
        },
        "id": "8RW4KklKfNL8",
        "outputId": "cb0c59cf-33ab-4f07-b03e-5d428c9c07d6"
      },
      "execution_count": 5,
      "outputs": [
        {
          "output_type": "stream",
          "name": "stdout",
          "text": [
            "<class 'pandas.core.frame.DataFrame'>\n",
            "DatetimeIndex: 2769 entries, 2011-04-04 to 2022-04-01\n",
            "Data columns (total 6 columns):\n",
            " #   Column     Non-Null Count  Dtype  \n",
            "---  ------     --------------  -----  \n",
            " 0   Open       2769 non-null   float64\n",
            " 1   High       2769 non-null   float64\n",
            " 2   Low        2769 non-null   float64\n",
            " 3   Close      2769 non-null   float64\n",
            " 4   Adj Close  2769 non-null   float64\n",
            " 5   Volume     2769 non-null   int64  \n",
            "dtypes: float64(5), int64(1)\n",
            "memory usage: 151.4 KB\n"
          ]
        }
      ]
    },
    {
      "cell_type": "code",
      "source": [
        "stock.isnull().sum()"
      ],
      "metadata": {
        "colab": {
          "base_uri": "https://localhost:8080/"
        },
        "id": "KUdA5Tcg28bu",
        "outputId": "c44da8bc-1959-44ff-a9f8-300d9e7bf2f8"
      },
      "execution_count": 6,
      "outputs": [
        {
          "output_type": "execute_result",
          "data": {
            "text/plain": [
              "Open         0\n",
              "High         0\n",
              "Low          0\n",
              "Close        0\n",
              "Adj Close    0\n",
              "Volume       0\n",
              "dtype: int64"
            ]
          },
          "metadata": {},
          "execution_count": 6
        }
      ]
    },
    {
      "cell_type": "code",
      "source": [
        "plt.figure(figsize=(15,5))\n",
        "plt.title('Close Price History Stock GOOGL')\n",
        "plt.plot(stock['Close'])\n",
        "plt.xlabel('Date')\n",
        "plt.ylabel('Close Price USD ($)')\n",
        "plt.show()"
      ],
      "metadata": {
        "colab": {
          "base_uri": "https://localhost:8080/",
          "height": 350
        },
        "id": "8N9Zll2YfO_J",
        "outputId": "1fa56331-f263-42de-e9d6-10eef1a19981"
      },
      "execution_count": 7,
      "outputs": [
        {
          "output_type": "display_data",
          "data": {
            "text/plain": [
              "<Figure size 1080x360 with 1 Axes>"
            ],
            "image/png": "[encoded data removed]"
          },
          "metadata": {
            "needs_background": "light"
          }
        }
      ]
    },
    {
      "cell_type": "code",
      "source": [
        "data = stock.filter(['Close'])\n",
        "dataset = data.values\n",
        "\n",
        "data_train_len = int(np.ceil(len(dataset)* 0.8))\n",
        "\n",
        "print(data_train_len)"
      ],
      "metadata": {
        "colab": {
          "base_uri": "https://localhost:8080/"
        },
        "id": "JjsRjeI0fRHV",
        "outputId": "fb59232f-e8cc-43f6-dd46-df84e6cd9d30"
      },
      "execution_count": 8,
      "outputs": [
        {
          "output_type": "stream",
          "name": "stdout",
          "text": [
            "2216\n"
          ]
        }
      ]
    },
    {
      "cell_type": "code",
      "source": [
        "\n",
        "data_train = dataset[:data_train_len]\n",
        "#data_train = data_train.flatten()\n",
        "data_test = dataset[data_train_len:]\n",
        "#data_test = data_test.flatten()\n",
        "\n",
        "\n",
        "print(data_train.shape)\n",
        "print(data_test.shape)"
      ],
      "metadata": {
        "colab": {
          "base_uri": "https://localhost:8080/"
        },
        "id": "2UdQDHenicJn",
        "outputId": "a6c69a88-1077-4c18-d65c-a1ecb62c86f8"
      },
      "execution_count": 9,
      "outputs": [
        {
          "output_type": "stream",
          "name": "stdout",
          "text": [
            "(2216, 1)\n",
            "(553, 1)\n"
          ]
        }
      ]
    },
    {
      "cell_type": "code",
      "source": [
        "skala_data = MinMaxScaler(feature_range=(0,1))\n",
        "data_train_normalisasi = skala_data.fit_transform(data_train)\n",
        "data_train_normalisasi = data_train_normalisasi.flatten()\n",
        "\n",
        "data_test_normalisasi = skala_data.fit_transform(data_test)\n",
        "data_test_normalisasi = data_test_normalisasi.flatten()\n",
        "\n",
        "dataset_normalisasi = skala_data.fit_transform(dataset)\n",
        "\n"
      ],
      "metadata": {
        "id": "m_W8ZtS1feli"
      },
      "execution_count": 10,
      "outputs": []
    },
    {
      "cell_type": "code",
      "source": [
        "def windowed_dataset(series, window_size, batch_size, shuffle_buffer):\n",
        "    series = tf.expand_dims(series, axis=-1)\n",
        "    ds = tf.data.Dataset.from_tensor_slices(series)\n",
        "    ds = ds.window(window_size + 1, shift=1, drop_remainder=True)\n",
        "    ds = ds.flat_map(lambda w: w.batch(window_size + 1))\n",
        "    ds = ds.shuffle(shuffle_buffer)\n",
        "    ds = ds.map(lambda w: (w[:-1], w[-1:]))\n",
        "    return ds.batch(batch_size).prefetch(1)"
      ],
      "metadata": {
        "id": "DeWG3J4zfolZ"
      },
      "execution_count": 11,
      "outputs": []
    },
    {
      "cell_type": "code",
      "source": [
        "train_set = windowed_dataset(data_train_normalisasi, window_size=60, batch_size=100, shuffle_buffer=1000)\n",
        "validation_set = windowed_dataset(data_test_normalisasi, window_size=60, batch_size=100, shuffle_buffer=1000)"
      ],
      "metadata": {
        "id": "AD-ay_9GhW4b"
      },
      "execution_count": 12,
      "outputs": []
    },
    {
      "cell_type": "code",
      "source": [
        "model = tf.keras.models.Sequential([\n",
        "  tf.keras.layers.LSTM(128, return_sequences=True),\n",
        "  tf.keras.layers.LSTM(64),\n",
        "  tf.keras.layers.Dense(25),\n",
        "  tf.keras.layers.Dense(1),\n",
        "])\n"
      ],
      "metadata": {
        "id": "QZliUKOFY4DW"
      },
      "execution_count": 13,
      "outputs": []
    },
    {
      "cell_type": "code",
      "source": [
        "minMae = (dataset_normalisasi.max() - dataset_normalisasi.min()) * 10/100\n",
        "minMae"
      ],
      "metadata": {
        "colab": {
          "base_uri": "https://localhost:8080/"
        },
        "id": "U8N_56zxl4-p",
        "outputId": "01ee54d2-8e5d-4790-bd87-5fc9689328c6"
      },
      "execution_count": 14,
      "outputs": [
        {
          "output_type": "execute_result",
          "data": {
            "text/plain": [
              "0.09999999999999998"
            ]
          },
          "metadata": {},
          "execution_count": 14
        }
      ]
    },
    {
      "cell_type": "code",
      "source": [
        "class myEarlyStop(tf.keras.callbacks.Callback):\n",
        "  def on_epoch_end(self, epoch, logs={}):\n",
        "    if(logs.get('mae')<minMae and logs.get('val_mae')<minMae):\n",
        "      self.model.stop_training = True\n",
        "\n",
        "def scheduler(epoch, lr):\n",
        "  if epoch < 10:\n",
        "    return lr\n",
        "  else:\n",
        "    return lr * tf.math.exp(-0.1)\n",
        "\n",
        "callback = tf.keras.callbacks.LearningRateScheduler(scheduler)\n",
        "optimizer = tf.keras.optimizers.SGD(learning_rate=0.001, momentum=0.9)\n",
        "model.compile(loss=tf.keras.losses.Huber(),\n",
        "              optimizer=optimizer,\n",
        "              metrics=[\"mae\"])"
      ],
      "metadata": {
        "id": "1CzpyU_zghc4"
      },
      "execution_count": 15,
      "outputs": []
    },
    {
      "cell_type": "code",
      "source": [
        "\n",
        "history = model.fit(train_set, validation_data = (validation_set), epochs=100, callbacks=[callback,myEarlyStop()])"
      ],
      "metadata": {
        "id": "-MpnFX0rhKpP",
        "colab": {
          "base_uri": "https://localhost:8080/"
        },
        "outputId": "72313127-59ae-4a5f-aad9-c0e808d19a28"
      },
      "execution_count": 16,
      "outputs": [
        {
          "output_type": "stream",
          "name": "stdout",
          "text": [
            "Epoch 1/100\n",
            "22/22 [==============================] - 17s 166ms/step - loss: 0.0647 - mae: 0.2966 - val_loss: 0.0532 - val_mae: 0.2709 - lr: 0.0010\n",
            "Epoch 2/100\n",
            "22/22 [==============================] - 1s 44ms/step - loss: 0.0235 - mae: 0.1881 - val_loss: 0.0310 - val_mae: 0.2225 - lr: 0.0010\n",
            "Epoch 3/100\n",
            "22/22 [==============================] - 1s 43ms/step - loss: 0.0247 - mae: 0.1948 - val_loss: 0.0330 - val_mae: 0.2204 - lr: 0.0010\n",
            "Epoch 4/100\n",
            "22/22 [==============================] - 1s 39ms/step - loss: 0.0188 - mae: 0.1685 - val_loss: 0.0271 - val_mae: 0.2010 - lr: 0.0010\n",
            "Epoch 5/100\n",
            "22/22 [==============================] - 1s 50ms/step - loss: 0.0159 - mae: 0.1554 - val_loss: 0.0224 - val_mae: 0.1831 - lr: 0.0010\n",
            "Epoch 6/100\n",
            "22/22 [==============================] - 1s 42ms/step - loss: 0.0135 - mae: 0.1429 - val_loss: 0.0191 - val_mae: 0.1682 - lr: 0.0010\n",
            "Epoch 7/100\n",
            "22/22 [==============================] - 1s 42ms/step - loss: 0.0109 - mae: 0.1285 - val_loss: 0.0152 - val_mae: 0.1503 - lr: 0.0010\n",
            "Epoch 8/100\n",
            "22/22 [==============================] - 1s 39ms/step - loss: 0.0090 - mae: 0.1169 - val_loss: 0.0126 - val_mae: 0.1359 - lr: 0.0010\n",
            "Epoch 9/100\n",
            "22/22 [==============================] - 1s 24ms/step - loss: 0.0072 - mae: 0.1040 - val_loss: 0.0100 - val_mae: 0.1210 - lr: 0.0010\n",
            "Epoch 10/100\n",
            "22/22 [==============================] - 1s 24ms/step - loss: 0.0056 - mae: 0.0919 - val_loss: 0.0079 - val_mae: 0.1072 - lr: 0.0010\n",
            "Epoch 11/100\n",
            "22/22 [==============================] - 1s 25ms/step - loss: 0.0043 - mae: 0.0804 - val_loss: 0.0063 - val_mae: 0.0947 - lr: 9.0484e-04\n"
          ]
        }
      ]
    },
    {
      "cell_type": "code",
      "source": [
        "mae = history.history['mae']\n",
        "val_mae = history.history['val_mae']\n",
        "loss = history.history['loss']\n",
        "val_loss = history.history['val_loss']"
      ],
      "metadata": {
        "id": "PMsaVwJbm6cN"
      },
      "execution_count": 17,
      "outputs": []
    },
    {
      "cell_type": "code",
      "source": [
        "plt.plot(mae, 'b', label='mae')\n",
        "plt.plot(val_mae, 'g', label='val_mae')\n",
        "\n",
        "plt.xlabel('Epoch')\n",
        "plt.ylabel('MAE')\n",
        "plt.legend()\n",
        "plt.show()"
      ],
      "metadata": {
        "colab": {
          "base_uri": "https://localhost:8080/",
          "height": 279
        },
        "id": "o6GS7BSzm-Ek",
        "outputId": "ab612868-0a17-4b4d-be2e-32d37ffa0efe"
      },
      "execution_count": 18,
      "outputs": [
        {
          "output_type": "display_data",
          "data": {
            "text/plain": [
              "<Figure size 432x288 with 1 Axes>"
            ],
            "image/png": "[encoded data removed]"
          },
          "metadata": {
            "needs_background": "light"
          }
        }
      ]
    },
    {
      "cell_type": "code",
      "source": [
        "plt.plot(loss, 'b', label='loss')\n",
        "plt.plot(val_loss, 'g', label='val_loss')\n",
        "\n",
        "plt.xlabel('Epoch')\n",
        "plt.ylabel('Loss')\n",
        "plt.legend()\n",
        "plt.show()"
      ],
      "metadata": {
        "id": "rMaPrV85BEHv",
        "colab": {
          "base_uri": "https://localhost:8080/",
          "height": 279
        },
        "outputId": "845b7445-bc5e-4e74-f92d-593853f5edfc"
      },
      "execution_count": 19,
      "outputs": [
        {
          "output_type": "display_data",
          "data": {
            "text/plain": [
              "<Figure size 432x288 with 1 Axes>"
            ],
            "image/png": "[encoded data removed]"
          },
          "metadata": {
            "needs_background": "light"
          }
        }
      ]
    },
    {
      "cell_type": "code",
      "source": [
        ""
      ],
      "metadata": {
        "id": "6WDcRmW-pEky"
      },
      "execution_count": 19,
      "outputs": []
    }
  ]
}